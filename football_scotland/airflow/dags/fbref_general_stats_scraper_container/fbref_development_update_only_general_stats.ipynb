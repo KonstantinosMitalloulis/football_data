{
 "cells": [
  {
   "cell_type": "code",
   "execution_count": null,
   "metadata": {},
   "outputs": [],
   "source": [
    "import requests\n",
    "from bs4 import BeautifulSoup\n",
    "import pandas as pd\n",
    "import time\n",
    "import numpy as np\n",
    "data_each_team= requests.get('https://fbref.com/en/squads/b81aa4fa/2021-2022/Celtic-Stats')\n",
    "time.sleep(20)\n",
    "soup = BeautifulSoup(data_each_team.text)\n",
    "links = soup.find_all('a')\n",
    "print(links)\n",
    "links = [l.get(\"href\") for l in links]\n",
    "links = [l for l in links if l and 'all_comps/schedule' in l]\n",
    "\n"
   ]
  },
  {
   "cell_type": "code",
   "execution_count": null,
   "metadata": {},
   "outputs": [],
   "source": [
    "links"
   ]
  },
  {
   "cell_type": "code",
   "execution_count": 3,
   "metadata": {},
   "outputs": [],
   "source": [
    "data = requests.get(f\"https://fbref.com{links[0]}\")"
   ]
  },
  {
   "cell_type": "code",
   "execution_count": 4,
   "metadata": {},
   "outputs": [],
   "source": [
    "schedule = pd.read_html(data.text , match = \"Scores & Fixtures\")[0]"
   ]
  },
  {
   "cell_type": "code",
   "execution_count": null,
   "metadata": {},
   "outputs": [],
   "source": [
    "schedule.head()"
   ]
  },
  {
   "cell_type": "code",
   "execution_count": null,
   "metadata": {},
   "outputs": [],
   "source": [
    "schedule.dtypes"
   ]
  },
  {
   "cell_type": "code",
   "execution_count": 7,
   "metadata": {},
   "outputs": [],
   "source": [
    "# Convert the 'date' column to datetime and extract only the date part\n",
    "schedule['Date'] = pd.to_datetime(schedule['Date']).dt.date"
   ]
  },
  {
   "cell_type": "code",
   "execution_count": null,
   "metadata": {},
   "outputs": [],
   "source": [
    "schedule.dtypes"
   ]
  },
  {
   "cell_type": "code",
   "execution_count": null,
   "metadata": {},
   "outputs": [],
   "source": [
    "schedule.head()"
   ]
  },
  {
   "cell_type": "code",
   "execution_count": null,
   "metadata": {},
   "outputs": [],
   "source": [
    "from datetime import datetime,date, timedelta\n",
    "import time\n",
    "\n",
    "last_game = ('2021-07-31', '15:00:00', 'Ross County')\n",
    "# Define the start date as April 1, 2024\n",
    "\n",
    "start_date = datetime.strptime(last_game[0], '%Y-%m-%d').date()\n",
    "print(type(start_date))"
   ]
  },
  {
   "cell_type": "code",
   "execution_count": 13,
   "metadata": {},
   "outputs": [],
   "source": [
    "filtered_date_schedule = schedule[schedule[\"Date\"] <= start_date]"
   ]
  },
  {
   "cell_type": "code",
   "execution_count": null,
   "metadata": {},
   "outputs": [],
   "source": [
    "filtered_date_schedule"
   ]
  },
  {
   "cell_type": "code",
   "execution_count": null,
   "metadata": {},
   "outputs": [],
   "source": [
    "#-------------------------------------------------------------------------------------------------------------------------------------------------------------------------------------------------------------------------"
   ]
  },
  {
   "cell_type": "code",
   "execution_count": null,
   "metadata": {},
   "outputs": [],
   "source": [
    "#ta mazevo kapos"
   ]
  },
  {
   "cell_type": "code",
   "execution_count": null,
   "metadata": {},
   "outputs": [],
   "source": [
    "standings_urls = ['https://fbref.com/en/comps/40/2013-2014/2013-2014-Scottish-Premiership-Stats']\n"
   ]
  },
  {
   "cell_type": "code",
   "execution_count": null,
   "metadata": {},
   "outputs": [],
   "source": [
    "import requests\n",
    "from bs4 import BeautifulSoup\n",
    "import pandas as pd\n",
    "import time\n",
    "import numpy as np\n",
    "\n",
    "last_game = ('2021-07-31', '15:00:00', 'Ross County')\n",
    "# Define the start date as April 1, 2024\n",
    "\n",
    "start_date = datetime.strptime(last_game[0], '%Y-%m-%d').date()\n",
    "\n",
    "data_each_team= requests.get('https://fbref.com/en/squads/b81aa4fa/2021-2022/Celtic-Stats')\n",
    "time.sleep(20)\n",
    "soup = BeautifulSoup(data_each_team.text)\n",
    "links = soup.find_all('a')\n",
    "print(links)\n",
    "links = [l.get(\"href\") for l in links]\n",
    "links = [l for l in links if l and 'all_comps/schedule' in l]\n",
    "data = requests.get(f\"https://fbref.com{links[0]}\")\n",
    "schedule = pd.read_html(data.text , match = \"Scores & Fixtures\")[0]\n",
    "# Convert the 'date' column to datetime and extract only the date part\n",
    "schedule['Date'] = pd.to_datetime(schedule['Date']).dt.date\n",
    "filtered_date_schedule = schedule[schedule[\"Date\"] <= start_date]"
   ]
  },
  {
   "cell_type": "code",
   "execution_count": null,
   "metadata": {},
   "outputs": [],
   "source": []
  },
  {
   "cell_type": "code",
   "execution_count": null,
   "metadata": {},
   "outputs": [],
   "source": []
  },
  {
   "cell_type": "code",
   "execution_count": null,
   "metadata": {},
   "outputs": [],
   "source": []
  },
  {
   "cell_type": "code",
   "execution_count": null,
   "metadata": {},
   "outputs": [],
   "source": []
  },
  {
   "cell_type": "code",
   "execution_count": null,
   "metadata": {},
   "outputs": [],
   "source": []
  },
  {
   "cell_type": "code",
   "execution_count": null,
   "metadata": {},
   "outputs": [],
   "source": []
  },
  {
   "cell_type": "code",
   "execution_count": null,
   "metadata": {},
   "outputs": [],
   "source": []
  },
  {
   "cell_type": "code",
   "execution_count": null,
   "metadata": {},
   "outputs": [],
   "source": []
  },
  {
   "cell_type": "code",
   "execution_count": null,
   "metadata": {},
   "outputs": [],
   "source": [
    "import requests\n",
    "from bs4 import BeautifulSoup\n",
    "import pandas as pd\n",
    "import time\n",
    "import numpy as np\n",
    "\n",
    "from fbref_functions.fbref_only_match_reports_functions import assign_change_team_name,check_forbidden_and_correction,check_starting_elevens_and_correction,getting_the_missing_match_reports,match_reports\n",
    "#standing_url = 'https://fbref.com/en/comps/40/2022-2023/2022-2023-Scottish-Premiership-Stats'\n",
    "standing_urls_list = ['https://fbref.com/en/comps/40/2015-2016/2015-2016-Scottish-Premiership-Stats','https://fbref.com/en/comps/40/2016-2017/2016-2017-Scottish-Premiership-Stats',\n",
    "                      'https://fbref.com/en/comps/40/2017-2018/2017-2018-Scottish-Premiership-Stats','https://fbref.com/en/comps/40/2018-2019/2018-2019-Scottish-Premiership-Stats',\n",
    "                      'https://fbref.com/en/comps/40/2019-2020/2019-2020-Scottish-Premiership-Stats','https://fbref.com/en/comps/40/2020-2021/2020-2021-Scottish-Premiership-Stats',\n",
    "                      'https://fbref.com/en/comps/40/2021-2022/2021-2022-Scottish-Premiership-Stats','https://fbref.com/en/comps/40/2023-2024/2023-2024-Scottish-Premiership-Stats']\n",
    "\n",
    "for standing_url in standing_urls_list:\n",
    "    df_init = match_reports(standing_url)\n",
    "    troubleshooting_df=check_forbidden_and_correction(df_init)\n",
    "    troubleshooting_df=check_starting_elevens_and_correction(troubleshooting_df)\n",
    "    troubleshooting_df = troubleshooting_df.applymap(lambda x: x.strip() if isinstance(x, str) else x)\n",
    "    parts_url = standing_url.split('/')\n",
    "    season_name = parts_url[6].replace(\"-\",\"_\") \n",
    "    csv_name = f\"../csvs/first_load_csvs/fbref_csvs/all_match_reports/match_reports_season_{season_name}.csv\"\n",
    "    troubleshooting_df.to_csv(csv_name, index=False)"
   ]
  }
 ],
 "metadata": {
  "kernelspec": {
   "display_name": "test_env",
   "language": "python",
   "name": "python3"
  },
  "language_info": {
   "codemirror_mode": {
    "name": "ipython",
    "version": 3
   },
   "file_extension": ".py",
   "mimetype": "text/x-python",
   "name": "python",
   "nbconvert_exporter": "python",
   "pygments_lexer": "ipython3",
   "version": "3.7.12"
  }
 },
 "nbformat": 4,
 "nbformat_minor": 2
}
